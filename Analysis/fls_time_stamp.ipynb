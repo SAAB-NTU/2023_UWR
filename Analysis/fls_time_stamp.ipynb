{
 "cells": [
  {
   "cell_type": "code",
   "execution_count": 27,
   "metadata": {},
   "outputs": [],
   "source": [
    "import pandas as pd\n",
    "import matplotlib.pyplot as plt\n",
    "from glob import glob\n",
    "import numpy as np\n",
    "import os\n",
    "import cv2\n",
    "import shutil"
   ]
  },
  {
   "cell_type": "code",
   "execution_count": null,
   "metadata": {},
   "outputs": [],
   "source": []
  },
  {
   "cell_type": "code",
   "execution_count": 157,
   "metadata": {},
   "outputs": [],
   "source": [
    "camera_data=sorted(glob(\"raw_data/26Jan/camera/11_13_03/*\"))\n",
    "camera_data_clean_paths=[x.split(\"/\")[-1].split(\".\")[0] for x in camera_data]\n",
    "camera_data_clean=[x.split(\"_\")[0]+\".\"+x.split(\"_\")[1] for x in camera_data_clean_paths]\n",
    "camera_timestamps=np.array(camera_data_clean,np.float128)"
   ]
  },
  {
   "cell_type": "code",
   "execution_count": 156,
   "metadata": {},
   "outputs": [],
   "source": [
    "camera_timestamps_tared=camera_timestamps-camera_timestamps[0]"
   ]
  },
  {
   "cell_type": "code",
   "execution_count": 158,
   "metadata": {},
   "outputs": [
    {
     "data": {
      "text/plain": [
       "array([1.70623878e+09, 1.70623879e+09, 1.70623879e+09, 1.70623879e+09,\n",
       "       1.70623879e+09, 1.70623879e+09, 1.70623879e+09, 1.70623879e+09,\n",
       "       1.70623879e+09, 1.70623879e+09, 1.70623879e+09, 1.70623880e+09,\n",
       "       1.70623880e+09, 1.70623880e+09, 1.70623880e+09, 1.70623880e+09,\n",
       "       1.70623880e+09, 1.70623880e+09, 1.70623880e+09, 1.70623880e+09,\n",
       "       1.70623880e+09, 1.70623881e+09, 1.70623881e+09, 1.70623881e+09,\n",
       "       1.70623881e+09, 1.70623881e+09, 1.70623881e+09, 1.70623881e+09,\n",
       "       1.70623881e+09, 1.70623881e+09, 1.70623881e+09, 1.70623882e+09,\n",
       "       1.70623882e+09, 1.70623882e+09, 1.70623882e+09, 1.70623882e+09,\n",
       "       1.70623882e+09, 1.70623882e+09, 1.70623882e+09], dtype=float128)"
      ]
     },
     "execution_count": 158,
     "metadata": {},
     "output_type": "execute_result"
    }
   ],
   "source": [
    "camera_timestamps"
   ]
  },
  {
   "cell_type": "code",
   "execution_count": 159,
   "metadata": {},
   "outputs": [],
   "source": [
    "sonar_data=sorted(glob(\"processed_data/26Jan/FLS/fls_images_cart/*\"))\n",
    "fls_data_clean=[x.split(\"/\")[-1].split(\".\")[0] for x in sonar_data]\n",
    "sonar_timestamps=np.array(fls_data_clean,np.float128)/np.power(10,9)\n",
    "#sonar_timestamps=sonar_timestamps-sonar_timestamps[0]"
   ]
  },
  {
   "cell_type": "code",
   "execution_count": 162,
   "metadata": {},
   "outputs": [
    {
     "name": "stdout",
     "output_type": "stream",
     "text": [
      "1706238784.007750877\n",
      "1706238821.943827925\n"
     ]
    }
   ],
   "source": [
    "lst_sonar=[]\n",
    "for x in camera_timestamps:\n",
    "    lst_sonar.append(np.argmin(np.abs(x-sonar_timestamps)))\n",
    "print(sonar_timestamps[lst_sonar[0]])\n",
    "print(sonar_timestamps[lst_sonar[-1]])"
   ]
  },
  {
   "cell_type": "code",
   "execution_count": 122,
   "metadata": {},
   "outputs": [],
   "source": [
    "kf_data=pd.read_csv(\"processed_data/26Jan/KF/26Jan_2024_01_26_03_13_10_sync.csv\")"
   ]
  },
  {
   "cell_type": "code",
   "execution_count": 123,
   "metadata": {},
   "outputs": [
    {
     "data": {
      "text/html": [
       "<div>\n",
       "<style scoped>\n",
       "    .dataframe tbody tr th:only-of-type {\n",
       "        vertical-align: middle;\n",
       "    }\n",
       "\n",
       "    .dataframe tbody tr th {\n",
       "        vertical-align: top;\n",
       "    }\n",
       "\n",
       "    .dataframe thead th {\n",
       "        text-align: right;\n",
       "    }\n",
       "</style>\n",
       "<table border=\"1\" class=\"dataframe\">\n",
       "  <thead>\n",
       "    <tr style=\"text-align: right;\">\n",
       "      <th></th>\n",
       "      <th>Timestamp</th>\n",
       "      <th>Pose_X</th>\n",
       "      <th>Pose_Y</th>\n",
       "      <th>Pose_Z</th>\n",
       "      <th>Sonar_Distance_1</th>\n",
       "      <th>Sonar_Distance_2</th>\n",
       "      <th>Sonar_Distance_3</th>\n",
       "      <th>IMU_Linear_Acc_X</th>\n",
       "      <th>IMU_Linear_Acc_Y</th>\n",
       "      <th>IMU_Linear_Acc_Z</th>\n",
       "    </tr>\n",
       "  </thead>\n",
       "  <tbody>\n",
       "    <tr>\n",
       "      <th>0</th>\n",
       "      <td>1706236327307223210</td>\n",
       "      <td>-0.000030</td>\n",
       "      <td>-2.081637e-05</td>\n",
       "      <td>-0.000017</td>\n",
       "      <td>0.0</td>\n",
       "      <td>0.0</td>\n",
       "      <td>0.813000</td>\n",
       "      <td>-0.013051</td>\n",
       "      <td>-0.003941</td>\n",
       "      <td>-0.008139</td>\n",
       "    </tr>\n",
       "    <tr>\n",
       "      <th>1</th>\n",
       "      <td>1706236327466935988</td>\n",
       "      <td>-0.000195</td>\n",
       "      <td>-3.287401e-05</td>\n",
       "      <td>-2.300957</td>\n",
       "      <td>0.0</td>\n",
       "      <td>0.0</td>\n",
       "      <td>0.814000</td>\n",
       "      <td>-0.011637</td>\n",
       "      <td>-0.007865</td>\n",
       "      <td>-0.019775</td>\n",
       "    </tr>\n",
       "    <tr>\n",
       "      <th>2</th>\n",
       "      <td>1706236327577056266</td>\n",
       "      <td>-0.000089</td>\n",
       "      <td>-5.722362e-05</td>\n",
       "      <td>-0.875885</td>\n",
       "      <td>0.0</td>\n",
       "      <td>0.0</td>\n",
       "      <td>0.816333</td>\n",
       "      <td>-0.012486</td>\n",
       "      <td>-0.005804</td>\n",
       "      <td>-0.027720</td>\n",
       "    </tr>\n",
       "    <tr>\n",
       "      <th>3</th>\n",
       "      <td>1706236327669064654</td>\n",
       "      <td>-0.000045</td>\n",
       "      <td>-2.328829e-05</td>\n",
       "      <td>-0.822230</td>\n",
       "      <td>0.0</td>\n",
       "      <td>0.0</td>\n",
       "      <td>0.818667</td>\n",
       "      <td>-0.015144</td>\n",
       "      <td>-0.003926</td>\n",
       "      <td>-0.025611</td>\n",
       "    </tr>\n",
       "    <tr>\n",
       "      <th>4</th>\n",
       "      <td>1706236327827858543</td>\n",
       "      <td>-0.000123</td>\n",
       "      <td>-6.846064e-05</td>\n",
       "      <td>-0.823073</td>\n",
       "      <td>0.0</td>\n",
       "      <td>0.0</td>\n",
       "      <td>0.821000</td>\n",
       "      <td>-0.011550</td>\n",
       "      <td>-0.002807</td>\n",
       "      <td>-0.013746</td>\n",
       "    </tr>\n",
       "    <tr>\n",
       "      <th>...</th>\n",
       "      <td>...</td>\n",
       "      <td>...</td>\n",
       "      <td>...</td>\n",
       "      <td>...</td>\n",
       "      <td>...</td>\n",
       "      <td>...</td>\n",
       "      <td>...</td>\n",
       "      <td>...</td>\n",
       "      <td>...</td>\n",
       "      <td>...</td>\n",
       "    </tr>\n",
       "    <tr>\n",
       "      <th>242</th>\n",
       "      <td>1706236357227960581</td>\n",
       "      <td>-0.000002</td>\n",
       "      <td>-3.997094e-07</td>\n",
       "      <td>-2.117993</td>\n",
       "      <td>0.0</td>\n",
       "      <td>0.0</td>\n",
       "      <td>2.117666</td>\n",
       "      <td>-0.049806</td>\n",
       "      <td>-0.020053</td>\n",
       "      <td>0.012822</td>\n",
       "    </tr>\n",
       "    <tr>\n",
       "      <th>243</th>\n",
       "      <td>1706236357327957081</td>\n",
       "      <td>-0.000424</td>\n",
       "      <td>-5.049098e-05</td>\n",
       "      <td>-2.121966</td>\n",
       "      <td>0.0</td>\n",
       "      <td>0.0</td>\n",
       "      <td>2.123333</td>\n",
       "      <td>-0.079486</td>\n",
       "      <td>-0.000014</td>\n",
       "      <td>0.010467</td>\n",
       "    </tr>\n",
       "    <tr>\n",
       "      <th>244</th>\n",
       "      <td>1706236357427418600</td>\n",
       "      <td>-0.000353</td>\n",
       "      <td>-2.885247e-06</td>\n",
       "      <td>-2.127905</td>\n",
       "      <td>0.0</td>\n",
       "      <td>0.0</td>\n",
       "      <td>2.128333</td>\n",
       "      <td>-0.070852</td>\n",
       "      <td>-0.003092</td>\n",
       "      <td>0.032189</td>\n",
       "    </tr>\n",
       "    <tr>\n",
       "      <th>245</th>\n",
       "      <td>1706236357597228729</td>\n",
       "      <td>-0.000862</td>\n",
       "      <td>6.222947e-05</td>\n",
       "      <td>-2.137612</td>\n",
       "      <td>0.0</td>\n",
       "      <td>0.0</td>\n",
       "      <td>2.133000</td>\n",
       "      <td>-0.038796</td>\n",
       "      <td>-0.000477</td>\n",
       "      <td>0.005718</td>\n",
       "    </tr>\n",
       "    <tr>\n",
       "      <th>246</th>\n",
       "      <td>1706236357707492673</td>\n",
       "      <td>-0.000204</td>\n",
       "      <td>-4.989643e-05</td>\n",
       "      <td>-2.135924</td>\n",
       "      <td>0.0</td>\n",
       "      <td>0.0</td>\n",
       "      <td>2.137333</td>\n",
       "      <td>-0.033850</td>\n",
       "      <td>-0.013415</td>\n",
       "      <td>-0.000565</td>\n",
       "    </tr>\n",
       "  </tbody>\n",
       "</table>\n",
       "<p>247 rows × 10 columns</p>\n",
       "</div>"
      ],
      "text/plain": [
       "               Timestamp    Pose_X        Pose_Y    Pose_Z  Sonar_Distance_1  \\\n",
       "0    1706236327307223210 -0.000030 -2.081637e-05 -0.000017               0.0   \n",
       "1    1706236327466935988 -0.000195 -3.287401e-05 -2.300957               0.0   \n",
       "2    1706236327577056266 -0.000089 -5.722362e-05 -0.875885               0.0   \n",
       "3    1706236327669064654 -0.000045 -2.328829e-05 -0.822230               0.0   \n",
       "4    1706236327827858543 -0.000123 -6.846064e-05 -0.823073               0.0   \n",
       "..                   ...       ...           ...       ...               ...   \n",
       "242  1706236357227960581 -0.000002 -3.997094e-07 -2.117993               0.0   \n",
       "243  1706236357327957081 -0.000424 -5.049098e-05 -2.121966               0.0   \n",
       "244  1706236357427418600 -0.000353 -2.885247e-06 -2.127905               0.0   \n",
       "245  1706236357597228729 -0.000862  6.222947e-05 -2.137612               0.0   \n",
       "246  1706236357707492673 -0.000204 -4.989643e-05 -2.135924               0.0   \n",
       "\n",
       "     Sonar_Distance_2  Sonar_Distance_3  IMU_Linear_Acc_X  IMU_Linear_Acc_Y  \\\n",
       "0                 0.0          0.813000         -0.013051         -0.003941   \n",
       "1                 0.0          0.814000         -0.011637         -0.007865   \n",
       "2                 0.0          0.816333         -0.012486         -0.005804   \n",
       "3                 0.0          0.818667         -0.015144         -0.003926   \n",
       "4                 0.0          0.821000         -0.011550         -0.002807   \n",
       "..                ...               ...               ...               ...   \n",
       "242               0.0          2.117666         -0.049806         -0.020053   \n",
       "243               0.0          2.123333         -0.079486         -0.000014   \n",
       "244               0.0          2.128333         -0.070852         -0.003092   \n",
       "245               0.0          2.133000         -0.038796         -0.000477   \n",
       "246               0.0          2.137333         -0.033850         -0.013415   \n",
       "\n",
       "     IMU_Linear_Acc_Z  \n",
       "0           -0.008139  \n",
       "1           -0.019775  \n",
       "2           -0.027720  \n",
       "3           -0.025611  \n",
       "4           -0.013746  \n",
       "..                ...  \n",
       "242          0.012822  \n",
       "243          0.010467  \n",
       "244          0.032189  \n",
       "245          0.005718  \n",
       "246         -0.000565  \n",
       "\n",
       "[247 rows x 10 columns]"
      ]
     },
     "execution_count": 123,
     "metadata": {},
     "output_type": "execute_result"
    }
   ],
   "source": [
    "kf_data"
   ]
  },
  {
   "cell_type": "code",
   "execution_count": 153,
   "metadata": {},
   "outputs": [],
   "source": [
    "kf_timestamps=np.array(kf_data[\"Timestamp\"]-kf_data[\"Timestamp\"][0],np.float128)/np.power(10,9)"
   ]
  },
  {
   "cell_type": "code",
   "execution_count": 155,
   "metadata": {},
   "outputs": [
    {
     "data": {
      "text/plain": [
       "[0,\n",
       " 8,\n",
       " 23,\n",
       " 24,\n",
       " 33,\n",
       " 48,\n",
       " 49,\n",
       " 57,\n",
       " 64,\n",
       " 72,\n",
       " 87,\n",
       " 89,\n",
       " 96,\n",
       " 104,\n",
       " 113,\n",
       " 128,\n",
       " 129,\n",
       " 137,\n",
       " 145,\n",
       " 154,\n",
       " 162,\n",
       " 170,\n",
       " 178,\n",
       " 186,\n",
       " 194,\n",
       " 202,\n",
       " 210,\n",
       " 218,\n",
       " 227,\n",
       " 235,\n",
       " 243,\n",
       " 246,\n",
       " 246,\n",
       " 246,\n",
       " 246,\n",
       " 246,\n",
       " 246,\n",
       " 246,\n",
       " 246]"
      ]
     },
     "execution_count": 155,
     "metadata": {},
     "output_type": "execute_result"
    }
   ],
   "source": [
    "lst_kf=[]\n",
    "for x in camera_timestamps_tared:\n",
    "    lst_kf.append(np.argmin(np.abs(x-kf_timestamps)))\n",
    "lst_kf"
   ]
  },
  {
   "cell_type": "code",
   "execution_count": 19,
   "metadata": {},
   "outputs": [
    {
     "data": {
      "text/plain": [
       "39"
      ]
     },
     "execution_count": 19,
     "metadata": {},
     "output_type": "execute_result"
    }
   ],
   "source": [
    "len(camera_timestamps)"
   ]
  },
  {
   "cell_type": "code",
   "execution_count": 48,
   "metadata": {},
   "outputs": [
    {
     "data": {
      "text/plain": [
       "[0,\n",
       " 1,\n",
       " 3,\n",
       " 3,\n",
       " 4,\n",
       " 6,\n",
       " 6,\n",
       " 7,\n",
       " 8,\n",
       " 9,\n",
       " 11,\n",
       " 11,\n",
       " 12,\n",
       " 13,\n",
       " 14,\n",
       " 16,\n",
       " 16,\n",
       " 17,\n",
       " 18,\n",
       " 19,\n",
       " 20,\n",
       " 21,\n",
       " 22,\n",
       " 23,\n",
       " 24,\n",
       " 25,\n",
       " 26,\n",
       " 27,\n",
       " 28,\n",
       " 29,\n",
       " 30,\n",
       " 31,\n",
       " 32,\n",
       " 33,\n",
       " 34,\n",
       " 35,\n",
       " 36,\n",
       " 37,\n",
       " 38]"
      ]
     },
     "execution_count": 48,
     "metadata": {},
     "output_type": "execute_result"
    }
   ],
   "source": [
    "lst=[]\n",
    "for x in camera_timestamps:\n",
    "    lst.append(np.argmin(np.abs(sonar_timestamps-x)))\n",
    "lst"
   ]
  },
  {
   "cell_type": "code",
   "execution_count": 29,
   "metadata": {},
   "outputs": [],
   "source": [
    "fls_sorted_path=\"processed_data/26Jan/FLS/11_13_03_camera/\"\n",
    "os.makedirs(fls_sorted_path,exist_ok=True)"
   ]
  },
  {
   "cell_type": "code",
   "execution_count": 30,
   "metadata": {},
   "outputs": [],
   "source": [
    "for x in range (len(camera_data)):\n",
    "    shutil.copy(sonar_data[lst[x]],fls_sorted_path+camera_data_clean_paths[x]+\".png\")\n",
    "    "
   ]
  },
  {
   "cell_type": "code",
   "execution_count": 23,
   "metadata": {},
   "outputs": [
    {
     "data": {
      "text/plain": [
       "['1706238784_14346122',\n",
       " '1706238785_13770818',\n",
       " '1706238786_9881019',\n",
       " '1706238787_10212659',\n",
       " '1706238788_12438535',\n",
       " '1706238789_9901285',\n",
       " '1706238790_11126279',\n",
       " '1706238791_10576009',\n",
       " '1706238792_10862112',\n",
       " '1706238793_11811733',\n",
       " '1706238794_9974241',\n",
       " '1706238795_17157793',\n",
       " '1706238796_10374546',\n",
       " '1706238797_10585069',\n",
       " '1706238798_15710830',\n",
       " '1706238799_9676218',\n",
       " '1706238800_10348081',\n",
       " '1706238801_13907909',\n",
       " '1706238802_10413646',\n",
       " '1706238803_12071847',\n",
       " '1706238804_11163711',\n",
       " '1706238805_12964010',\n",
       " '1706238806_12738704',\n",
       " '1706238807_12562274',\n",
       " '1706238808_14050245',\n",
       " '1706238809_10333299',\n",
       " '1706238810_10067224',\n",
       " '1706238811_11627674',\n",
       " '1706238812_13239622',\n",
       " '1706238813_13937950',\n",
       " '1706238814_13171434',\n",
       " '1706238815_11610984',\n",
       " '1706238816_13802766',\n",
       " '1706238817_13190984',\n",
       " '1706238818_12340068',\n",
       " '1706238819_11487722',\n",
       " '1706238820_10215282',\n",
       " '1706238821_11278390',\n",
       " '1706238822_10858535']"
      ]
     },
     "execution_count": 23,
     "metadata": {},
     "output_type": "execute_result"
    }
   ],
   "source": [
    "camera_data_clean_paths"
   ]
  },
  {
   "cell_type": "code",
   "execution_count": null,
   "metadata": {},
   "outputs": [],
   "source": []
  }
 ],
 "metadata": {
  "kernelspec": {
   "display_name": "Python 3",
   "language": "python",
   "name": "python3"
  },
  "language_info": {
   "codemirror_mode": {
    "name": "ipython",
    "version": 3
   },
   "file_extension": ".py",
   "mimetype": "text/x-python",
   "name": "python",
   "nbconvert_exporter": "python",
   "pygments_lexer": "ipython3",
   "version": "3.8.10"
  }
 },
 "nbformat": 4,
 "nbformat_minor": 2
}
